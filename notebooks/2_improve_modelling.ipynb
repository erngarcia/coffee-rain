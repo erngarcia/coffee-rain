{
 "cells": [
  {
   "cell_type": "code",
   "execution_count": 1,
   "id": "79e775db-8a5a-4568-8652-e277b4845c5e",
   "metadata": {},
   "outputs": [],
   "source": [
    "import numpy as np\n",
    "import pandas as pd\n",
    "from sklearn.preprocessing import MinMaxScaler\n",
    "from tensorflow.keras.models import Sequential\n",
    "from tensorflow.keras.layers import LSTM, Dense, Dropout\n",
    "from sklearn.model_selection import TimeSeriesSplit\n",
    "\n",
    "from sklearn.metrics import mean_squared_error, mean_absolute_error\n",
    "import matplotlib.pyplot as plt\n",
    "\n",
    "from scipy import stats\n"
   ]
  },
  {
   "cell_type": "code",
   "execution_count": 2,
   "id": "ec00b435-97b3-4fc7-818f-b32d6b599fb1",
   "metadata": {},
   "outputs": [],
   "source": [
    "combined_df = pd.read_csv('../data/unified_percipitation_data.csv')"
   ]
  },
  {
   "cell_type": "code",
   "execution_count": 3,
   "id": "b12005ee-4ecf-4cc3-8e61-dd41019909c7",
   "metadata": {},
   "outputs": [],
   "source": [
    "#removing missing years\n",
    "combined_df = combined_df[(combined_df['year'] != 1996) & (combined_df['year'] != 1995)]"
   ]
  },
  {
   "cell_type": "markdown",
   "id": "c97e465b-0f09-4610-bd78-8e9584aa2c64",
   "metadata": {},
   "source": [
    "### Feature Engineering"
   ]
  },
  {
   "cell_type": "code",
   "execution_count": 4,
   "id": "02220eb6-82c6-4e01-9c73-8b619d39893b",
   "metadata": {},
   "outputs": [],
   "source": [
    "combined_df['date'] = pd.to_datetime(combined_df['date'])"
   ]
  },
  {
   "cell_type": "code",
   "execution_count": 5,
   "id": "b17d0f59-9aee-4e30-840c-e50a7eb12e8a",
   "metadata": {},
   "outputs": [],
   "source": [
    "def rolling_mean(df):\n",
    "    df['precip_rolling_mean'] = df['precipitation'].rolling(3).mean()\n",
    "    return df"
   ]
  },
  {
   "cell_type": "code",
   "execution_count": 6,
   "id": "42ade2ac-0a3a-4697-82b2-5e38811ff221",
   "metadata": {},
   "outputs": [],
   "source": [
    "combined_df = rolling_mean(combined_df)"
   ]
  },
  {
   "cell_type": "code",
   "execution_count": 7,
   "id": "8f621c96-9e2a-4597-8119-2bd659d3971a",
   "metadata": {},
   "outputs": [
    {
     "data": {
      "text/html": [
       "<div>\n",
       "<style scoped>\n",
       "    .dataframe tbody tr th:only-of-type {\n",
       "        vertical-align: middle;\n",
       "    }\n",
       "\n",
       "    .dataframe tbody tr th {\n",
       "        vertical-align: top;\n",
       "    }\n",
       "\n",
       "    .dataframe thead th {\n",
       "        text-align: right;\n",
       "    }\n",
       "</style>\n",
       "<table border=\"1\" class=\"dataframe\">\n",
       "  <thead>\n",
       "    <tr style=\"text-align: right;\">\n",
       "      <th></th>\n",
       "      <th>date</th>\n",
       "      <th>year</th>\n",
       "      <th>month</th>\n",
       "      <th>day</th>\n",
       "      <th>network</th>\n",
       "      <th>country</th>\n",
       "      <th>station_id</th>\n",
       "      <th>latitude</th>\n",
       "      <th>longitude</th>\n",
       "      <th>station_occurrence</th>\n",
       "      <th>precipitation</th>\n",
       "      <th>quality_flag</th>\n",
       "      <th>qc_code</th>\n",
       "      <th>obs_hour</th>\n",
       "      <th>season</th>\n",
       "      <th>precip_rolling_mean</th>\n",
       "    </tr>\n",
       "  </thead>\n",
       "  <tbody>\n",
       "    <tr>\n",
       "      <th>0</th>\n",
       "      <td>1997-08-01</td>\n",
       "      <td>1997</td>\n",
       "      <td>8</td>\n",
       "      <td>1</td>\n",
       "      <td>COSTA</td>\n",
       "      <td>RICA</td>\n",
       "      <td>96001</td>\n",
       "      <td>9.30000</td>\n",
       "      <td>-83.78334</td>\n",
       "      <td>0</td>\n",
       "      <td>6.8</td>\n",
       "      <td>0</td>\n",
       "      <td>U</td>\n",
       "      <td>13</td>\n",
       "      <td>Non-Harvest Season</td>\n",
       "      <td>NaN</td>\n",
       "    </tr>\n",
       "    <tr>\n",
       "      <th>1</th>\n",
       "      <td>1997-08-01</td>\n",
       "      <td>1997</td>\n",
       "      <td>8</td>\n",
       "      <td>1</td>\n",
       "      <td>COSTA</td>\n",
       "      <td>RICA</td>\n",
       "      <td>92002</td>\n",
       "      <td>9.40000</td>\n",
       "      <td>-84.08334</td>\n",
       "      <td>0</td>\n",
       "      <td>51.4</td>\n",
       "      <td>0</td>\n",
       "      <td>U</td>\n",
       "      <td>13</td>\n",
       "      <td>Non-Harvest Season</td>\n",
       "      <td>NaN</td>\n",
       "    </tr>\n",
       "    <tr>\n",
       "      <th>2</th>\n",
       "      <td>1997-08-01</td>\n",
       "      <td>1997</td>\n",
       "      <td>8</td>\n",
       "      <td>1</td>\n",
       "      <td>COSTA</td>\n",
       "      <td>RICA</td>\n",
       "      <td>90003</td>\n",
       "      <td>9.43333</td>\n",
       "      <td>-84.15000</td>\n",
       "      <td>0</td>\n",
       "      <td>31.3</td>\n",
       "      <td>0</td>\n",
       "      <td>U</td>\n",
       "      <td>13</td>\n",
       "      <td>Non-Harvest Season</td>\n",
       "      <td>29.833333</td>\n",
       "    </tr>\n",
       "    <tr>\n",
       "      <th>3</th>\n",
       "      <td>1997-08-01</td>\n",
       "      <td>1997</td>\n",
       "      <td>8</td>\n",
       "      <td>1</td>\n",
       "      <td>COSTA</td>\n",
       "      <td>RICA</td>\n",
       "      <td>90007</td>\n",
       "      <td>9.50000</td>\n",
       "      <td>-84.21667</td>\n",
       "      <td>0</td>\n",
       "      <td>26.5</td>\n",
       "      <td>0</td>\n",
       "      <td>U</td>\n",
       "      <td>13</td>\n",
       "      <td>Non-Harvest Season</td>\n",
       "      <td>36.400000</td>\n",
       "    </tr>\n",
       "    <tr>\n",
       "      <th>4</th>\n",
       "      <td>1997-08-01</td>\n",
       "      <td>1997</td>\n",
       "      <td>8</td>\n",
       "      <td>1</td>\n",
       "      <td>COSTA</td>\n",
       "      <td>RICA</td>\n",
       "      <td>90005</td>\n",
       "      <td>9.50000</td>\n",
       "      <td>-84.15000</td>\n",
       "      <td>0</td>\n",
       "      <td>23.4</td>\n",
       "      <td>0</td>\n",
       "      <td>U</td>\n",
       "      <td>13</td>\n",
       "      <td>Non-Harvest Season</td>\n",
       "      <td>27.066667</td>\n",
       "    </tr>\n",
       "  </tbody>\n",
       "</table>\n",
       "</div>"
      ],
      "text/plain": [
       "        date  year  month  day network country  station_id  latitude  \\\n",
       "0 1997-08-01  1997      8    1   COSTA    RICA       96001   9.30000   \n",
       "1 1997-08-01  1997      8    1   COSTA    RICA       92002   9.40000   \n",
       "2 1997-08-01  1997      8    1   COSTA    RICA       90003   9.43333   \n",
       "3 1997-08-01  1997      8    1   COSTA    RICA       90007   9.50000   \n",
       "4 1997-08-01  1997      8    1   COSTA    RICA       90005   9.50000   \n",
       "\n",
       "   longitude  station_occurrence  precipitation  quality_flag qc_code  \\\n",
       "0  -83.78334                   0            6.8             0       U   \n",
       "1  -84.08334                   0           51.4             0       U   \n",
       "2  -84.15000                   0           31.3             0       U   \n",
       "3  -84.21667                   0           26.5             0       U   \n",
       "4  -84.15000                   0           23.4             0       U   \n",
       "\n",
       "   obs_hour              season  precip_rolling_mean  \n",
       "0        13  Non-Harvest Season                  NaN  \n",
       "1        13  Non-Harvest Season                  NaN  \n",
       "2        13  Non-Harvest Season            29.833333  \n",
       "3        13  Non-Harvest Season            36.400000  \n",
       "4        13  Non-Harvest Season            27.066667  "
      ]
     },
     "execution_count": 7,
     "metadata": {},
     "output_type": "execute_result"
    }
   ],
   "source": [
    "combined_df.head()"
   ]
  },
  {
   "cell_type": "code",
   "execution_count": 8,
   "id": "c9dc6b4d-1ff4-4f66-9f62-5316e7729b49",
   "metadata": {},
   "outputs": [],
   "source": [
    "#rolling mean for previous months.\n",
    "for lag in range(1, 4):\n",
    "    combined_df[f'precipitation_lag_{lag}'] = combined_df['precipitation'].shift(lag)\n",
    "combined_df.dropna(inplace=True)"
   ]
  },
  {
   "cell_type": "code",
   "execution_count": 9,
   "id": "7e00cf60-c490-4ae7-b90d-cd52ab50fc3a",
   "metadata": {},
   "outputs": [],
   "source": [
    "def add_seasonal_features(data):\n",
    "    data['month_sin'] = np.sin(2 * np.pi * data['month']/12)\n",
    "    data['month_cos'] = np.cos(2 * np.pi * data['month']/12)\n",
    "    return data"
   ]
  },
  {
   "cell_type": "code",
   "execution_count": 10,
   "id": "dc19ccf0-4360-4f49-8219-853c623ff327",
   "metadata": {},
   "outputs": [],
   "source": [
    "def add_station_features(data):\n",
    "    data['latitude_normalized'] = (data['latitude'] - data['latitude'].mean()) / data['latitude'].std()\n",
    "    data['longitude_normalized'] = (data['longitude'] - data['longitude'].mean()) / data['longitude'].std()\n",
    "    return data"
   ]
  },
  {
   "cell_type": "code",
   "execution_count": 11,
   "id": "f762efa4-96fd-4ebf-b7d8-3a707f663af0",
   "metadata": {},
   "outputs": [],
   "source": [
    "def assign_season(month):\n",
    "    if month in [12, 1, 2]:\n",
    "        return 'winter'\n",
    "    elif month in [3, 4, 5]:\n",
    "        return 'spring'\n",
    "    elif month in [6, 7, 8]:\n",
    "        return 'summer'\n",
    "    else:\n",
    "        return 'fall'"
   ]
  },
  {
   "cell_type": "code",
   "execution_count": 12,
   "id": "5e7faab3-7509-44ed-9e19-c2fc42f6e7a9",
   "metadata": {},
   "outputs": [],
   "source": [
    "combined_df['season'] = combined_df['month'].apply(assign_season)"
   ]
  },
  {
   "cell_type": "code",
   "execution_count": 13,
   "id": "a681348e-2d6b-4c7a-aafe-3d45ab4dc5b4",
   "metadata": {},
   "outputs": [],
   "source": [
    "#ONE HOT ENCODING\n",
    "combined_df = pd.get_dummies(combined_df, columns=['season'])"
   ]
  },
  {
   "cell_type": "code",
   "execution_count": 14,
   "id": "e5660a35-2c02-4c40-a1c0-1c14f53fe24d",
   "metadata": {},
   "outputs": [],
   "source": [
    "combined_df = add_seasonal_features(combined_df)"
   ]
  },
  {
   "cell_type": "code",
   "execution_count": 15,
   "id": "e9f5673a-abd4-4b68-8b0a-2a8ced104cbb",
   "metadata": {},
   "outputs": [],
   "source": [
    "combined_df = add_station_features(combined_df)"
   ]
  },
  {
   "cell_type": "code",
   "execution_count": 16,
   "id": "af7a7f77-2ed3-4388-ae9f-0bdd91b20c15",
   "metadata": {},
   "outputs": [],
   "source": [
    "combined_df.dropna(inplace=True)"
   ]
  },
  {
   "cell_type": "code",
   "execution_count": 17,
   "id": "ad2318a4-25b6-41e1-99d1-50ff7c9ebdb0",
   "metadata": {},
   "outputs": [
    {
     "data": {
      "text/html": [
       "<div>\n",
       "<style scoped>\n",
       "    .dataframe tbody tr th:only-of-type {\n",
       "        vertical-align: middle;\n",
       "    }\n",
       "\n",
       "    .dataframe tbody tr th {\n",
       "        vertical-align: top;\n",
       "    }\n",
       "\n",
       "    .dataframe thead th {\n",
       "        text-align: right;\n",
       "    }\n",
       "</style>\n",
       "<table border=\"1\" class=\"dataframe\">\n",
       "  <thead>\n",
       "    <tr style=\"text-align: right;\">\n",
       "      <th></th>\n",
       "      <th>date</th>\n",
       "      <th>year</th>\n",
       "      <th>month</th>\n",
       "      <th>day</th>\n",
       "      <th>network</th>\n",
       "      <th>country</th>\n",
       "      <th>station_id</th>\n",
       "      <th>latitude</th>\n",
       "      <th>longitude</th>\n",
       "      <th>station_occurrence</th>\n",
       "      <th>...</th>\n",
       "      <th>precipitation_lag_2</th>\n",
       "      <th>precipitation_lag_3</th>\n",
       "      <th>season_fall</th>\n",
       "      <th>season_spring</th>\n",
       "      <th>season_summer</th>\n",
       "      <th>season_winter</th>\n",
       "      <th>month_sin</th>\n",
       "      <th>month_cos</th>\n",
       "      <th>latitude_normalized</th>\n",
       "      <th>longitude_normalized</th>\n",
       "    </tr>\n",
       "  </thead>\n",
       "  <tbody>\n",
       "    <tr>\n",
       "      <th>3</th>\n",
       "      <td>1997-08-01</td>\n",
       "      <td>1997</td>\n",
       "      <td>8</td>\n",
       "      <td>1</td>\n",
       "      <td>COSTA</td>\n",
       "      <td>RICA</td>\n",
       "      <td>90007</td>\n",
       "      <td>9.50000</td>\n",
       "      <td>-84.21667</td>\n",
       "      <td>0</td>\n",
       "      <td>...</td>\n",
       "      <td>51.4</td>\n",
       "      <td>6.8</td>\n",
       "      <td>False</td>\n",
       "      <td>False</td>\n",
       "      <td>True</td>\n",
       "      <td>False</td>\n",
       "      <td>-0.866025</td>\n",
       "      <td>-0.5</td>\n",
       "      <td>-0.608298</td>\n",
       "      <td>0.186829</td>\n",
       "    </tr>\n",
       "    <tr>\n",
       "      <th>4</th>\n",
       "      <td>1997-08-01</td>\n",
       "      <td>1997</td>\n",
       "      <td>8</td>\n",
       "      <td>1</td>\n",
       "      <td>COSTA</td>\n",
       "      <td>RICA</td>\n",
       "      <td>90005</td>\n",
       "      <td>9.50000</td>\n",
       "      <td>-84.15000</td>\n",
       "      <td>0</td>\n",
       "      <td>...</td>\n",
       "      <td>31.3</td>\n",
       "      <td>51.4</td>\n",
       "      <td>False</td>\n",
       "      <td>False</td>\n",
       "      <td>True</td>\n",
       "      <td>False</td>\n",
       "      <td>-0.866025</td>\n",
       "      <td>-0.5</td>\n",
       "      <td>-0.608298</td>\n",
       "      <td>0.306961</td>\n",
       "    </tr>\n",
       "    <tr>\n",
       "      <th>5</th>\n",
       "      <td>1997-08-01</td>\n",
       "      <td>1997</td>\n",
       "      <td>8</td>\n",
       "      <td>1</td>\n",
       "      <td>COSTA</td>\n",
       "      <td>RICA</td>\n",
       "      <td>90001</td>\n",
       "      <td>9.51667</td>\n",
       "      <td>-84.25000</td>\n",
       "      <td>0</td>\n",
       "      <td>...</td>\n",
       "      <td>26.5</td>\n",
       "      <td>31.3</td>\n",
       "      <td>False</td>\n",
       "      <td>False</td>\n",
       "      <td>True</td>\n",
       "      <td>False</td>\n",
       "      <td>-0.866025</td>\n",
       "      <td>-0.5</td>\n",
       "      <td>-0.572565</td>\n",
       "      <td>0.126772</td>\n",
       "    </tr>\n",
       "    <tr>\n",
       "      <th>6</th>\n",
       "      <td>1997-08-01</td>\n",
       "      <td>1997</td>\n",
       "      <td>8</td>\n",
       "      <td>1</td>\n",
       "      <td>COSTA</td>\n",
       "      <td>RICA</td>\n",
       "      <td>88004</td>\n",
       "      <td>9.53333</td>\n",
       "      <td>-84.30000</td>\n",
       "      <td>0</td>\n",
       "      <td>...</td>\n",
       "      <td>23.4</td>\n",
       "      <td>26.5</td>\n",
       "      <td>False</td>\n",
       "      <td>False</td>\n",
       "      <td>True</td>\n",
       "      <td>False</td>\n",
       "      <td>-0.866025</td>\n",
       "      <td>-0.5</td>\n",
       "      <td>-0.536853</td>\n",
       "      <td>0.036678</td>\n",
       "    </tr>\n",
       "    <tr>\n",
       "      <th>7</th>\n",
       "      <td>1997-08-01</td>\n",
       "      <td>1997</td>\n",
       "      <td>8</td>\n",
       "      <td>1</td>\n",
       "      <td>COSTA</td>\n",
       "      <td>RICA</td>\n",
       "      <td>86007</td>\n",
       "      <td>9.70000</td>\n",
       "      <td>-84.66666</td>\n",
       "      <td>0</td>\n",
       "      <td>...</td>\n",
       "      <td>9.2</td>\n",
       "      <td>23.4</td>\n",
       "      <td>False</td>\n",
       "      <td>False</td>\n",
       "      <td>True</td>\n",
       "      <td>False</td>\n",
       "      <td>-0.866025</td>\n",
       "      <td>-0.5</td>\n",
       "      <td>-0.179589</td>\n",
       "      <td>-0.624004</td>\n",
       "    </tr>\n",
       "  </tbody>\n",
       "</table>\n",
       "<p>5 rows × 26 columns</p>\n",
       "</div>"
      ],
      "text/plain": [
       "        date  year  month  day network country  station_id  latitude  \\\n",
       "3 1997-08-01  1997      8    1   COSTA    RICA       90007   9.50000   \n",
       "4 1997-08-01  1997      8    1   COSTA    RICA       90005   9.50000   \n",
       "5 1997-08-01  1997      8    1   COSTA    RICA       90001   9.51667   \n",
       "6 1997-08-01  1997      8    1   COSTA    RICA       88004   9.53333   \n",
       "7 1997-08-01  1997      8    1   COSTA    RICA       86007   9.70000   \n",
       "\n",
       "   longitude  station_occurrence  ...  precipitation_lag_2  \\\n",
       "3  -84.21667                   0  ...                 51.4   \n",
       "4  -84.15000                   0  ...                 31.3   \n",
       "5  -84.25000                   0  ...                 26.5   \n",
       "6  -84.30000                   0  ...                 23.4   \n",
       "7  -84.66666                   0  ...                  9.2   \n",
       "\n",
       "   precipitation_lag_3 season_fall  season_spring  season_summer  \\\n",
       "3                  6.8       False          False           True   \n",
       "4                 51.4       False          False           True   \n",
       "5                 31.3       False          False           True   \n",
       "6                 26.5       False          False           True   \n",
       "7                 23.4       False          False           True   \n",
       "\n",
       "   season_winter  month_sin  month_cos  latitude_normalized  \\\n",
       "3          False  -0.866025       -0.5            -0.608298   \n",
       "4          False  -0.866025       -0.5            -0.608298   \n",
       "5          False  -0.866025       -0.5            -0.572565   \n",
       "6          False  -0.866025       -0.5            -0.536853   \n",
       "7          False  -0.866025       -0.5            -0.179589   \n",
       "\n",
       "   longitude_normalized  \n",
       "3              0.186829  \n",
       "4              0.306961  \n",
       "5              0.126772  \n",
       "6              0.036678  \n",
       "7             -0.624004  \n",
       "\n",
       "[5 rows x 26 columns]"
      ]
     },
     "execution_count": 17,
     "metadata": {},
     "output_type": "execute_result"
    }
   ],
   "source": [
    "combined_df.head()"
   ]
  },
  {
   "cell_type": "code",
   "execution_count": 18,
   "id": "56ad06e2-5710-429d-bde9-3c154ff12e7f",
   "metadata": {},
   "outputs": [
    {
     "name": "stdout",
     "output_type": "stream",
     "text": [
      "date                    datetime64[ns]\n",
      "year                             int64\n",
      "month                            int64\n",
      "day                              int64\n",
      "network                         object\n",
      "country                         object\n",
      "station_id                       int64\n",
      "latitude                       float64\n",
      "longitude                      float64\n",
      "station_occurrence               int64\n",
      "precipitation                  float64\n",
      "quality_flag                     int64\n",
      "qc_code                         object\n",
      "obs_hour                         int64\n",
      "precip_rolling_mean            float64\n",
      "precipitation_lag_1            float64\n",
      "precipitation_lag_2            float64\n",
      "precipitation_lag_3            float64\n",
      "season_fall                       bool\n",
      "season_spring                     bool\n",
      "season_summer                     bool\n",
      "season_winter                     bool\n",
      "month_sin                      float64\n",
      "month_cos                      float64\n",
      "latitude_normalized            float64\n",
      "longitude_normalized           float64\n",
      "dtype: object\n"
     ]
    }
   ],
   "source": [
    "print(combined_df.dtypes)\n"
   ]
  },
  {
   "cell_type": "markdown",
   "id": "c4e8e6c6-a553-41e0-b782-4907ec02b3de",
   "metadata": {},
   "source": [
    "### Modelling"
   ]
  },
  {
   "cell_type": "code",
   "execution_count": 19,
   "id": "df97afff-6043-4621-8da4-d1755d3b46bd",
   "metadata": {},
   "outputs": [],
   "source": [
    "def prepare_time_series_data(data, look_back=12):\n",
    "    \"\"\"\n",
    "    Convierte un DataFrame en secuencias de datos para un modelo LSTM.\n",
    "    - data: DataFrame con las características y la variable objetivo.\n",
    "    - look_back: cantidad de pasos atrás usados para predecir.\n",
    "    \n",
    "    Retorna:\n",
    "    - X: datos de entrada en forma de secuencias (samples, time_steps, features).\n",
    "    - y: valores objetivo correspondientes.\n",
    "    - scaler: objeto para reescalar datos.\n",
    "    \"\"\"\n",
    "    # Normalizar datos\n",
    "    scaler = MinMaxScaler()\n",
    "    scaled_data = scaler.fit_transform(data)\n",
    "\n",
    "    X, y = [], []\n",
    "    for i in range(len(scaled_data) - look_back):\n",
    "        X.append(scaled_data[i:(i + look_back), :-1])  \n",
    "        y.append(scaled_data[i + look_back, -1]) #last should be precip\n",
    "    \n",
    "    return np.array(X), np.array(y), scaler"
   ]
  },
  {
   "cell_type": "code",
   "execution_count": 20,
   "id": "18f0d83c-9603-4428-8670-189d26f90ca0",
   "metadata": {},
   "outputs": [],
   "source": [
    "LOOK_BACK = 6"
   ]
  },
  {
   "cell_type": "code",
   "execution_count": 21,
   "id": "8521bc76-b7ea-4fbf-8799-a46a0ee13aff",
   "metadata": {},
   "outputs": [
    {
     "data": {
      "text/plain": [
       "Index(['date', 'year', 'month', 'day', 'network', 'country', 'station_id',\n",
       "       'latitude', 'longitude', 'station_occurrence', 'precipitation',\n",
       "       'quality_flag', 'qc_code', 'obs_hour', 'precip_rolling_mean',\n",
       "       'precipitation_lag_1', 'precipitation_lag_2', 'precipitation_lag_3',\n",
       "       'season_fall', 'season_spring', 'season_summer', 'season_winter',\n",
       "       'month_sin', 'month_cos', 'latitude_normalized',\n",
       "       'longitude_normalized'],\n",
       "      dtype='object')"
      ]
     },
     "execution_count": 21,
     "metadata": {},
     "output_type": "execute_result"
    }
   ],
   "source": [
    "combined_df.columns"
   ]
  },
  {
   "cell_type": "code",
   "execution_count": 22,
   "id": "911e99fa-3335-4bd4-b31c-962584b3e6b3",
   "metadata": {},
   "outputs": [],
   "source": [
    "FEATURES = ['year', 'month', 'day', 'obs_hour', 'precip_rolling_mean',\n",
    "       'precipitation_lag_1', 'precipitation_lag_2', 'precipitation_lag_3',\n",
    "       'season_fall', 'season_spring', 'season_summer', 'season_winter',\n",
    "       'month_sin', 'month_cos', 'latitude_normalized',\n",
    "       'longitude_normalized']\n",
    "\n",
    "LABEL = ['precipitation']"
   ]
  },
  {
   "cell_type": "code",
   "execution_count": 23,
   "id": "ae814972-4897-4c6c-9262-a9c677b07105",
   "metadata": {},
   "outputs": [
    {
     "data": {
      "text/plain": [
       "Index(['date', 'year', 'month', 'day', 'network', 'country', 'station_id',\n",
       "       'latitude', 'longitude', 'station_occurrence', 'precipitation',\n",
       "       'quality_flag', 'qc_code', 'obs_hour', 'precip_rolling_mean',\n",
       "       'precipitation_lag_1', 'precipitation_lag_2', 'precipitation_lag_3',\n",
       "       'season_fall', 'season_spring', 'season_summer', 'season_winter',\n",
       "       'month_sin', 'month_cos', 'latitude_normalized',\n",
       "       'longitude_normalized'],\n",
       "      dtype='object')"
      ]
     },
     "execution_count": 23,
     "metadata": {},
     "output_type": "execute_result"
    }
   ],
   "source": [
    "combined_df.columns"
   ]
  },
  {
   "cell_type": "code",
   "execution_count": 24,
   "id": "6ae2f02e-041f-42ab-acee-ea0269c99fae",
   "metadata": {},
   "outputs": [
    {
     "name": "stdout",
     "output_type": "stream",
     "text": [
      "Shape of X_train: (19588, 12, 16)\n",
      "Shape of y_train: (19588,)\n"
     ]
    }
   ],
   "source": [
    "look_back = 12  \n",
    "train_size = int(len(combined_df) * 0.7)\n",
    "\n",
    "X, y, scaler = prepare_time_series_data(combined_df[FEATURES + LABEL], look_back)\n",
    "\n",
    "X_train, X_test = X[:train_size], X[train_size:]\n",
    "y_train, y_test = y[:train_size], y[train_size:]\n",
    "\n",
    "print(\"Shape of X_train:\", X_train.shape)  # (n_samples, look_back, n_features)\n",
    "print(\"Shape of y_train:\", y_train.shape)  # (n_samples,)"
   ]
  },
  {
   "cell_type": "code",
   "execution_count": 25,
   "id": "84e60647-a033-448e-8f84-686a272f12de",
   "metadata": {},
   "outputs": [],
   "source": [
    "#add a more robust model for this itaration.\n",
    "#more layers and 64 input.\n",
    "\n",
    "def create_lstm_model(look_back, n_features):\n",
    "    model = Sequential([\n",
    "        LSTM(64, activation='relu', input_shape=(look_back, n_features), return_sequences=True),\n",
    "        Dropout(0.2),\n",
    "        LSTM(64, activation='relu'),\n",
    "        Dropout(0.2),\n",
    "        Dense(32, activation='relu'),\n",
    "        Dense(1) \n",
    "    ])\n",
    "    model.compile(optimizer='adam', loss='mse')\n",
    "    return model"
   ]
  },
  {
   "cell_type": "code",
   "execution_count": 26,
   "id": "8c24fa93-e7be-4857-8fbe-9829f60cf778",
   "metadata": {},
   "outputs": [
    {
     "name": "stderr",
     "output_type": "stream",
     "text": [
      "/Users/luses/.local/share/mise/installs/python/3.12.3/lib/python3.12/site-packages/keras/src/layers/rnn/rnn.py:200: UserWarning: Do not pass an `input_shape`/`input_dim` argument to a layer. When using Sequential models, prefer using an `Input(shape)` object as the first layer in the model instead.\n",
      "  super().__init__(**kwargs)\n"
     ]
    }
   ],
   "source": [
    "n_features = X_train.shape[2]\n",
    "model = create_lstm_model(look_back, n_features)"
   ]
  },
  {
   "cell_type": "code",
   "execution_count": 27,
   "id": "eaf6ebb1-e7da-4541-bb1e-114d23eae754",
   "metadata": {},
   "outputs": [],
   "source": [
    "from tensorflow.keras.callbacks import EarlyStopping\n",
    "early_stopping = EarlyStopping(monitor='val_loss', patience=10, restore_best_weights=True)"
   ]
  },
  {
   "cell_type": "code",
   "execution_count": 28,
   "id": "28f3eba7-b732-4ddd-98a1-a639e2cf8adb",
   "metadata": {
    "scrolled": true
   },
   "outputs": [
    {
     "name": "stdout",
     "output_type": "stream",
     "text": [
      "Epoch 1/50\n",
      "\u001b[1m980/980\u001b[0m \u001b[32m━━━━━━━━━━━━━━━━━━━━\u001b[0m\u001b[37m\u001b[0m \u001b[1m5s\u001b[0m 4ms/step - loss: 0.0051 - val_loss: 0.0044\n",
      "Epoch 2/50\n",
      "\u001b[1m980/980\u001b[0m \u001b[32m━━━━━━━━━━━━━━━━━━━━\u001b[0m\u001b[37m\u001b[0m \u001b[1m4s\u001b[0m 4ms/step - loss: 0.0048 - val_loss: 0.0042\n",
      "Epoch 3/50\n",
      "\u001b[1m980/980\u001b[0m \u001b[32m━━━━━━━━━━━━━━━━━━━━\u001b[0m\u001b[37m\u001b[0m \u001b[1m4s\u001b[0m 4ms/step - loss: 0.0042 - val_loss: 0.0041\n",
      "Epoch 4/50\n",
      "\u001b[1m980/980\u001b[0m \u001b[32m━━━━━━━━━━━━━━━━━━━━\u001b[0m\u001b[37m\u001b[0m \u001b[1m4s\u001b[0m 4ms/step - loss: 0.0047 - val_loss: 0.0040\n",
      "Epoch 5/50\n",
      "\u001b[1m980/980\u001b[0m \u001b[32m━━━━━━━━━━━━━━━━━━━━\u001b[0m\u001b[37m\u001b[0m \u001b[1m4s\u001b[0m 5ms/step - loss: 0.0044 - val_loss: 0.0039\n",
      "Epoch 6/50\n",
      "\u001b[1m980/980\u001b[0m \u001b[32m━━━━━━━━━━━━━━━━━━━━\u001b[0m\u001b[37m\u001b[0m \u001b[1m4s\u001b[0m 4ms/step - loss: 0.0041 - val_loss: 0.0039\n",
      "Epoch 7/50\n",
      "\u001b[1m980/980\u001b[0m \u001b[32m━━━━━━━━━━━━━━━━━━━━\u001b[0m\u001b[37m\u001b[0m \u001b[1m4s\u001b[0m 4ms/step - loss: 0.0041 - val_loss: 0.0039\n",
      "Epoch 8/50\n",
      "\u001b[1m980/980\u001b[0m \u001b[32m━━━━━━━━━━━━━━━━━━━━\u001b[0m\u001b[37m\u001b[0m \u001b[1m4s\u001b[0m 4ms/step - loss: 0.0040 - val_loss: 0.0040\n",
      "Epoch 9/50\n",
      "\u001b[1m980/980\u001b[0m \u001b[32m━━━━━━━━━━━━━━━━━━━━\u001b[0m\u001b[37m\u001b[0m \u001b[1m4s\u001b[0m 4ms/step - loss: 0.0040 - val_loss: 0.0039\n",
      "Epoch 10/50\n",
      "\u001b[1m980/980\u001b[0m \u001b[32m━━━━━━━━━━━━━━━━━━━━\u001b[0m\u001b[37m\u001b[0m \u001b[1m4s\u001b[0m 4ms/step - loss: 0.0042 - val_loss: 0.0039\n",
      "Epoch 11/50\n",
      "\u001b[1m980/980\u001b[0m \u001b[32m━━━━━━━━━━━━━━━━━━━━\u001b[0m\u001b[37m\u001b[0m \u001b[1m4s\u001b[0m 4ms/step - loss: 0.0043 - val_loss: 0.0038\n",
      "Epoch 12/50\n",
      "\u001b[1m980/980\u001b[0m \u001b[32m━━━━━━━━━━━━━━━━━━━━\u001b[0m\u001b[37m\u001b[0m \u001b[1m4s\u001b[0m 5ms/step - loss: 0.0042 - val_loss: 0.0039\n",
      "Epoch 13/50\n",
      "\u001b[1m980/980\u001b[0m \u001b[32m━━━━━━━━━━━━━━━━━━━━\u001b[0m\u001b[37m\u001b[0m \u001b[1m4s\u001b[0m 4ms/step - loss: 0.0040 - val_loss: 0.0040\n",
      "Epoch 14/50\n",
      "\u001b[1m980/980\u001b[0m \u001b[32m━━━━━━━━━━━━━━━━━━━━\u001b[0m\u001b[37m\u001b[0m \u001b[1m4s\u001b[0m 4ms/step - loss: 0.0039 - val_loss: 0.0041\n",
      "Epoch 15/50\n",
      "\u001b[1m980/980\u001b[0m \u001b[32m━━━━━━━━━━━━━━━━━━━━\u001b[0m\u001b[37m\u001b[0m \u001b[1m4s\u001b[0m 4ms/step - loss: 0.0039 - val_loss: 0.0039\n",
      "Epoch 16/50\n",
      "\u001b[1m980/980\u001b[0m \u001b[32m━━━━━━━━━━━━━━━━━━━━\u001b[0m\u001b[37m\u001b[0m \u001b[1m4s\u001b[0m 4ms/step - loss: 0.0040 - val_loss: 0.0038\n",
      "Epoch 17/50\n",
      "\u001b[1m980/980\u001b[0m \u001b[32m━━━━━━━━━━━━━━━━━━━━\u001b[0m\u001b[37m\u001b[0m \u001b[1m4s\u001b[0m 4ms/step - loss: 0.0041 - val_loss: 0.0038\n",
      "Epoch 18/50\n",
      "\u001b[1m980/980\u001b[0m \u001b[32m━━━━━━━━━━━━━━━━━━━━\u001b[0m\u001b[37m\u001b[0m \u001b[1m4s\u001b[0m 4ms/step - loss: 0.0038 - val_loss: 0.0038\n",
      "Epoch 19/50\n",
      "\u001b[1m980/980\u001b[0m \u001b[32m━━━━━━━━━━━━━━━━━━━━\u001b[0m\u001b[37m\u001b[0m \u001b[1m4s\u001b[0m 4ms/step - loss: 0.0039 - val_loss: 0.0038\n",
      "Epoch 20/50\n",
      "\u001b[1m980/980\u001b[0m \u001b[32m━━━━━━━━━━━━━━━━━━━━\u001b[0m\u001b[37m\u001b[0m \u001b[1m4s\u001b[0m 4ms/step - loss: 0.0041 - val_loss: 0.0039\n",
      "Epoch 21/50\n",
      "\u001b[1m980/980\u001b[0m \u001b[32m━━━━━━━━━━━━━━━━━━━━\u001b[0m\u001b[37m\u001b[0m \u001b[1m4s\u001b[0m 4ms/step - loss: 0.0041 - val_loss: 0.0038\n",
      "Epoch 22/50\n",
      "\u001b[1m980/980\u001b[0m \u001b[32m━━━━━━━━━━━━━━━━━━━━\u001b[0m\u001b[37m\u001b[0m \u001b[1m4s\u001b[0m 4ms/step - loss: 0.0040 - val_loss: 0.0037\n",
      "Epoch 23/50\n",
      "\u001b[1m980/980\u001b[0m \u001b[32m━━━━━━━━━━━━━━━━━━━━\u001b[0m\u001b[37m\u001b[0m \u001b[1m4s\u001b[0m 4ms/step - loss: 0.0042 - val_loss: 0.0040\n",
      "Epoch 24/50\n",
      "\u001b[1m980/980\u001b[0m \u001b[32m━━━━━━━━━━━━━━━━━━━━\u001b[0m\u001b[37m\u001b[0m \u001b[1m4s\u001b[0m 4ms/step - loss: 0.0041 - val_loss: 0.0038\n",
      "Epoch 25/50\n",
      "\u001b[1m980/980\u001b[0m \u001b[32m━━━━━━━━━━━━━━━━━━━━\u001b[0m\u001b[37m\u001b[0m \u001b[1m4s\u001b[0m 4ms/step - loss: 0.0040 - val_loss: 0.0038\n",
      "Epoch 26/50\n",
      "\u001b[1m980/980\u001b[0m \u001b[32m━━━━━━━━━━━━━━━━━━━━\u001b[0m\u001b[37m\u001b[0m \u001b[1m4s\u001b[0m 4ms/step - loss: 0.0039 - val_loss: 0.0038\n",
      "Epoch 27/50\n",
      "\u001b[1m980/980\u001b[0m \u001b[32m━━━━━━━━━━━━━━━━━━━━\u001b[0m\u001b[37m\u001b[0m \u001b[1m4s\u001b[0m 4ms/step - loss: 0.0038 - val_loss: 0.0039\n",
      "Epoch 28/50\n",
      "\u001b[1m980/980\u001b[0m \u001b[32m━━━━━━━━━━━━━━━━━━━━\u001b[0m\u001b[37m\u001b[0m \u001b[1m4s\u001b[0m 4ms/step - loss: 0.0038 - val_loss: 0.0038\n",
      "Epoch 29/50\n",
      "\u001b[1m980/980\u001b[0m \u001b[32m━━━━━━━━━━━━━━━━━━━━\u001b[0m\u001b[37m\u001b[0m \u001b[1m4s\u001b[0m 4ms/step - loss: 0.0038 - val_loss: 0.0039\n",
      "Epoch 30/50\n",
      "\u001b[1m980/980\u001b[0m \u001b[32m━━━━━━━━━━━━━━━━━━━━\u001b[0m\u001b[37m\u001b[0m \u001b[1m4s\u001b[0m 4ms/step - loss: 0.0038 - val_loss: 0.0039\n",
      "Epoch 31/50\n",
      "\u001b[1m980/980\u001b[0m \u001b[32m━━━━━━━━━━━━━━━━━━━━\u001b[0m\u001b[37m\u001b[0m \u001b[1m4s\u001b[0m 4ms/step - loss: 0.0037 - val_loss: 0.0038\n",
      "Epoch 32/50\n",
      "\u001b[1m980/980\u001b[0m \u001b[32m━━━━━━━━━━━━━━━━━━━━\u001b[0m\u001b[37m\u001b[0m \u001b[1m4s\u001b[0m 4ms/step - loss: 0.0038 - val_loss: 0.0040\n"
     ]
    }
   ],
   "source": [
    "history = model.fit(\n",
    "    X_train, y_train,\n",
    "    epochs=50,\n",
    "    batch_size=16,\n",
    "    validation_split=0.2,\n",
    "    callbacks=[early_stopping],\n",
    "    verbose=1\n",
    ")"
   ]
  },
  {
   "cell_type": "code",
   "execution_count": 29,
   "id": "701ee786-20e8-4310-bd22-6d60d71a1349",
   "metadata": {},
   "outputs": [
    {
     "name": "stdout",
     "output_type": "stream",
     "text": [
      "\u001b[1m613/613\u001b[0m \u001b[32m━━━━━━━━━━━━━━━━━━━━\u001b[0m\u001b[37m\u001b[0m \u001b[1m1s\u001b[0m 2ms/step\n"
     ]
    }
   ],
   "source": [
    "train_predict = model.predict(X_train)"
   ]
  },
  {
   "cell_type": "code",
   "execution_count": 30,
   "id": "9b3f3f32-6d88-4b3e-bf7f-4b41077b5ed9",
   "metadata": {},
   "outputs": [
    {
     "name": "stdout",
     "output_type": "stream",
     "text": [
      "\u001b[1m262/262\u001b[0m \u001b[32m━━━━━━━━━━━━━━━━━━━━\u001b[0m\u001b[37m\u001b[0m \u001b[1m0s\u001b[0m 1ms/step\n"
     ]
    }
   ],
   "source": [
    "test_predict = model.predict(X_test)"
   ]
  },
  {
   "cell_type": "code",
   "execution_count": 31,
   "id": "92d26a10-e752-477f-b495-2db17b3fb182",
   "metadata": {},
   "outputs": [],
   "source": [
    "def inverse_transform_predictions(scaler, predictions, n_features):\n",
    "    \"\"\"\n",
    "    Inverse transforms predictions when the scaler was fitted on multiple features.\n",
    "    \n",
    "    Parameters:\n",
    "    -----------\n",
    "    scaler : MinMaxScaler\n",
    "        The fitted scaler object\n",
    "    predictions : array-like\n",
    "        The predictions to inverse transform\n",
    "    n_features : int\n",
    "        The number of features the scaler was fitted on\n",
    "        \n",
    "    Returns:\n",
    "    --------\n",
    "    array-like\n",
    "        The inverse transformed predictions for the target variable\n",
    "    \"\"\"\n",
    "    dummy = np.zeros((predictions.shape[0], n_features))\n",
    "    dummy[:, -1] = predictions.ravel()\n",
    "    dummy = scaler.inverse_transform(dummy)\n",
    "    return dummy[:, -1]"
   ]
  },
  {
   "cell_type": "code",
   "execution_count": 32,
   "id": "12f7cac1-9f26-4247-88fc-ab9448cb46db",
   "metadata": {},
   "outputs": [],
   "source": [
    "n_features = len(FEATURES) + 1  # +1 for the target variable\n",
    "train_predict = inverse_transform_predictions(scaler, train_predict, n_features)\n",
    "y_train_inv = inverse_transform_predictions(scaler, y_train, n_features)\n",
    "y_test_inv = inverse_transform_predictions(scaler, y_test, n_features)\n",
    "test_predict = inverse_transform_predictions(scaler, test_predict, n_features)"
   ]
  },
  {
   "cell_type": "code",
   "execution_count": 33,
   "id": "e47da1c2-9a4d-446d-81c9-293407c51445",
   "metadata": {},
   "outputs": [
    {
     "name": "stdout",
     "output_type": "stream",
     "text": [
      "Train RMSE: 19.20\n",
      "Test RMSE: 20.61\n"
     ]
    }
   ],
   "source": [
    "train_rmse = np.sqrt(mean_squared_error(y_train_inv, train_predict))\n",
    "test_rmse = np.sqrt(mean_squared_error(y_test_inv, test_predict))\n",
    "print(f'Train RMSE: {train_rmse:.2f}')\n",
    "print(f'Test RMSE: {test_rmse:.2f}')"
   ]
  },
  {
   "cell_type": "code",
   "execution_count": 34,
   "id": "a5ed417b-6436-40d0-967f-b092882470b1",
   "metadata": {},
   "outputs": [
    {
     "data": {
      "image/png": "[encoded data removed]",
      "text/plain": [
       "<Figure size 1500x600 with 1 Axes>"
      ]
     },
     "metadata": {},
     "output_type": "display_data"
    }
   ],
   "source": [
    "# 7. Visualize results\n",
    "plt.figure(figsize=(15, 6))\n",
    "\n",
    "# Plot training data\n",
    "plt.plot(y_train_inv, label='Actual (Train)')\n",
    "plt.plot(train_predict, label='Predicted (Train)')\n",
    "\n",
    "plt.plot(range(len(y_train_inv), len(y_train_inv) + len(y_test_inv)), \n",
    "         y_test_inv, label='Actual (Test)')\n",
    "plt.plot(range(len(y_train_inv), len(y_train_inv) + len(test_predict)), \n",
    "         test_predict, label='Predicted (Test)')\n",
    "\n",
    "plt.title('Monthly Rainfall Prediction')\n",
    "plt.xlabel('Month')\n",
    "plt.ylabel('Rainfall (mm)')\n",
    "plt.legend()\n",
    "plt.show()"
   ]
  },
  {
   "cell_type": "code",
   "execution_count": 35,
   "id": "38dda5f0-6345-47e1-a2c7-124bf8c9868c",
   "metadata": {},
   "outputs": [
    {
     "data": {
      "image/png": "[encoded data removed]",
      "text/plain": [
       "<Figure size 1000x600 with 1 Axes>"
      ]
     },
     "metadata": {},
     "output_type": "display_data"
    }
   ],
   "source": [
    "plt.figure(figsize=(10, 6))\n",
    "plt.plot(history.history['loss'], label='Training Loss')\n",
    "plt.plot(history.history['val_loss'], label='Validation Loss')\n",
    "plt.title('Model Loss')\n",
    "plt.xlabel('Epoch')\n",
    "plt.ylabel('Loss')\n",
    "plt.legend()\n",
    "plt.show()"
   ]
  },
  {
   "cell_type": "markdown",
   "id": "844e8102-3097-4ad7-b490-420ec3c641a5",
   "metadata": {},
   "source": [
    "### Save the model"
   ]
  },
  {
   "cell_type": "code",
   "execution_count": 36,
   "id": "7905dbcc-95a0-42cb-ad41-9017e3a99608",
   "metadata": {},
   "outputs": [
    {
     "ename": "NameError",
     "evalue": "name 'monthly_rain' is not defined",
     "output_type": "error",
     "traceback": [
      "\u001b[0;31m---------------------------------------------------------------------------\u001b[0m",
      "\u001b[0;31mNameError\u001b[0m                                 Traceback (most recent call last)",
      "Cell \u001b[0;32mIn[36], line 17\u001b[0m\n\u001b[1;32m     12\u001b[0m joblib\u001b[38;5;241m.\u001b[39mdump(scaler, \u001b[38;5;124m'\u001b[39m\u001b[38;5;124m../models/scaler_v2.pkl\u001b[39m\u001b[38;5;124m'\u001b[39m)\n\u001b[1;32m     14\u001b[0m \u001b[38;5;66;03m# Save model metadata (like look_back period and other parameters)\u001b[39;00m\n\u001b[1;32m     15\u001b[0m model_metadata \u001b[38;5;241m=\u001b[39m {\n\u001b[1;32m     16\u001b[0m     \u001b[38;5;124m'\u001b[39m\u001b[38;5;124mlook_back\u001b[39m\u001b[38;5;124m'\u001b[39m: look_back,\n\u001b[0;32m---> 17\u001b[0m     \u001b[38;5;124m'\u001b[39m\u001b[38;5;124mlast_training_date\u001b[39m\u001b[38;5;124m'\u001b[39m: \u001b[43mmonthly_rain\u001b[49m\u001b[38;5;241m.\u001b[39mindex\u001b[38;5;241m.\u001b[39mmax()\u001b[38;5;241m.\u001b[39mstrftime(\u001b[38;5;124m'\u001b[39m\u001b[38;5;124m%\u001b[39m\u001b[38;5;124mY-\u001b[39m\u001b[38;5;124m%\u001b[39m\u001b[38;5;124mm-\u001b[39m\u001b[38;5;132;01m%d\u001b[39;00m\u001b[38;5;124m'\u001b[39m),\n\u001b[1;32m     18\u001b[0m     \u001b[38;5;124m'\u001b[39m\u001b[38;5;124minput_features\u001b[39m\u001b[38;5;124m'\u001b[39m: [\u001b[38;5;124m'\u001b[39m\u001b[38;5;124mprecipitation\u001b[39m\u001b[38;5;124m'\u001b[39m],\n\u001b[1;32m     19\u001b[0m }\n\u001b[1;32m     20\u001b[0m \u001b[38;5;28;01mwith\u001b[39;00m \u001b[38;5;28mopen\u001b[39m(\u001b[38;5;124m'\u001b[39m\u001b[38;5;124m../models/metadata_v2.json\u001b[39m\u001b[38;5;124m'\u001b[39m, \u001b[38;5;124m'\u001b[39m\u001b[38;5;124mw\u001b[39m\u001b[38;5;124m'\u001b[39m) \u001b[38;5;28;01mas\u001b[39;00m f:\n\u001b[1;32m     21\u001b[0m     json\u001b[38;5;241m.\u001b[39mdump(model_metadata, f)\n",
      "\u001b[0;31mNameError\u001b[0m: name 'monthly_rain' is not defined"
     ]
    }
   ],
   "source": [
    "import joblib\n",
    "import json\n",
    "from pathlib import Path\n",
    "\n",
    "# Create a directory for our model artifacts\n",
    "Path(\"../models\").mkdir(exist_ok=True)\n",
    "\n",
    "# Save the LSTM model\n",
    "model.save('../models/rainfall_lstm_model_v2.keras')\n",
    "\n",
    "# Save the scaler\n",
    "joblib.dump(scaler, '../models/scaler_v2.pkl')\n",
    "\n",
    "# Save model metadata (like look_back period and other parameters)\n",
    "model_metadata = {\n",
    "    'look_back': look_back,\n",
    "    'last_training_date': monthly_rain.index.max().strftime('%Y-%m-%d'),\n",
    "    'input_features': ['precipitation'],\n",
    "}\n",
    "with open('../models/metadata_v2.json', 'w') as f:\n",
    "    json.dump(model_metadata, f)"
   ]
  },
  {
   "cell_type": "code",
   "execution_count": null,
   "id": "f61899a8-887b-491d-8409-7ec0b8e694aa",
   "metadata": {},
   "outputs": [],
   "source": []
  }
 ],
 "metadata": {
  "kernelspec": {
   "display_name": "myenv",
   "language": "python",
   "name": "myenv"
  },
  "language_info": {
   "codemirror_mode": {
    "name": "ipython",
    "version": 3
   },
   "file_extension": ".py",
   "mimetype": "text/x-python",
   "name": "python",
   "nbconvert_exporter": "python",
   "pygments_lexer": "ipython3",
   "version": "3.12.3"
  }
 },
 "nbformat": 4,
 "nbformat_minor": 5
}
