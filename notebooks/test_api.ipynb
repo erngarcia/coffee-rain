{
 "cells": [
  {
   "cell_type": "code",
   "execution_count": 1,
   "id": "ecbed8ae-196f-4614-8536-4707a1559f7c",
   "metadata": {},
   "outputs": [],
   "source": [
    "import requests"
   ]
  },
  {
   "cell_type": "code",
   "execution_count": 2,
   "id": "587cc860-453f-498d-aefc-dea9537d28db",
   "metadata": {},
   "outputs": [],
   "source": [
    "# Test data\n",
    "test_data = {\n",
    "    \"historical_rainfall\": [100, 120, 80, 90, 110, 95, 85, 75, 120, 130, 95, 85]\n",
    "}"
   ]
  },
  {
   "cell_type": "code",
   "execution_count": 3,
   "id": "696f053f-e71e-4372-8a18-44284a37bce6",
   "metadata": {},
   "outputs": [],
   "source": [
    "# Test data\n",
    "test_data = {\n",
    "    \"historical_rainfall\": [100, 120, 80, 90, 110, 95, 85, 75, 120, 130, 95, 85]\n",
    "}\n",
    "\n",
    "# Make prediction\n",
    "response = requests.post(\n",
    "    \"http://localhost:8000/predict/next-month\",\n",
    "    json=test_data\n",
    ")"
   ]
  },
  {
   "cell_type": "code",
   "execution_count": 4,
   "id": "a6819e86-ffe0-4c55-961d-6bdcdf2c51e7",
   "metadata": {},
   "outputs": [
    {
     "name": "stdout",
     "output_type": "stream",
     "text": [
      "{'prediction': 210.37335205078125, 'confidence_interval': {'lower': 210.0291748046875, 'upper': 210.66268920898438}, 'prediction_date': '2025-04-01'}\n"
     ]
    }
   ],
   "source": [
    "print(response.json())"
   ]
  },
  {
   "cell_type": "code",
   "execution_count": null,
   "id": "e9cfa305-caac-49b3-9132-21ef80c96065",
   "metadata": {},
   "outputs": [],
   "source": []
  }
 ],
 "metadata": {
  "kernelspec": {
   "display_name": "myenv",
   "language": "python",
   "name": "myenv"
  },
  "language_info": {
   "codemirror_mode": {
    "name": "ipython",
    "version": 3
   },
   "file_extension": ".py",
   "mimetype": "text/x-python",
   "name": "python",
   "nbconvert_exporter": "python",
   "pygments_lexer": "ipython3",
   "version": "3.12.3"
  }
 },
 "nbformat": 4,
 "nbformat_minor": 5
}
